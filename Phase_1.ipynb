{
 "cells": [
  {
   "cell_type": "code",
   "execution_count": 1,
   "metadata": {},
   "outputs": [],
   "source": [
    "import pandas as pd\n",
    "import numpy as np\n",
    "import os"
   ]
  },
  {
   "cell_type": "markdown",
   "metadata": {},
   "source": [
    "# Loading Data"
   ]
  },
  {
   "cell_type": "code",
   "execution_count": 2,
   "metadata": {},
   "outputs": [
    {
     "data": {
      "text/html": [
       "<div>\n",
       "<style scoped>\n",
       "    .dataframe tbody tr th:only-of-type {\n",
       "        vertical-align: middle;\n",
       "    }\n",
       "\n",
       "    .dataframe tbody tr th {\n",
       "        vertical-align: top;\n",
       "    }\n",
       "\n",
       "    .dataframe thead th {\n",
       "        text-align: right;\n",
       "    }\n",
       "</style>\n",
       "<table border=\"1\" class=\"dataframe\">\n",
       "  <thead>\n",
       "    <tr style=\"text-align: right;\">\n",
       "      <th></th>\n",
       "      <th>ID</th>\n",
       "      <th>PROPERTYCATEGORY</th>\n",
       "      <th>STATE</th>\n",
       "      <th>POSTCODE</th>\n",
       "      <th>SUBURB</th>\n",
       "      <th>STREETTYPE</th>\n",
       "      <th>ADDRESSLATITUDE</th>\n",
       "      <th>ADDRESSLONGITUDE</th>\n",
       "      <th>AREASIZE</th>\n",
       "      <th>BEDROOMS</th>\n",
       "      <th>BATHS</th>\n",
       "      <th>PARKING</th>\n",
       "      <th>AIRCONDITION</th>\n",
       "      <th>BALCONY</th>\n",
       "      <th>WARDROBE</th>\n",
       "      <th>GARDEN</th>\n",
       "      <th>SALE_DATE</th>\n",
       "      <th>SALE_PRICE</th>\n",
       "    </tr>\n",
       "  </thead>\n",
       "  <tbody>\n",
       "    <tr>\n",
       "      <th>0</th>\n",
       "      <td>GL-3704-XQ</td>\n",
       "      <td>Unit</td>\n",
       "      <td>NSW</td>\n",
       "      <td>2042.0</td>\n",
       "      <td>B</td>\n",
       "      <td>St</td>\n",
       "      <td>-33.90505</td>\n",
       "      <td>151.17824</td>\n",
       "      <td>4120.0</td>\n",
       "      <td>1.0</td>\n",
       "      <td>1.0</td>\n",
       "      <td>0</td>\n",
       "      <td>NaN</td>\n",
       "      <td>NaN</td>\n",
       "      <td>NaN</td>\n",
       "      <td>NaN</td>\n",
       "      <td>NaT</td>\n",
       "      <td>NaN</td>\n",
       "    </tr>\n",
       "    <tr>\n",
       "      <th>1</th>\n",
       "      <td>JE-8988-FK</td>\n",
       "      <td>House</td>\n",
       "      <td>NSW</td>\n",
       "      <td>2042.0</td>\n",
       "      <td>B</td>\n",
       "      <td>Rd</td>\n",
       "      <td>-33.89965</td>\n",
       "      <td>151.17771</td>\n",
       "      <td>42.0</td>\n",
       "      <td>NaN</td>\n",
       "      <td>NaN</td>\n",
       "      <td>0</td>\n",
       "      <td>NaN</td>\n",
       "      <td>NaN</td>\n",
       "      <td>NaN</td>\n",
       "      <td>NaN</td>\n",
       "      <td>NaT</td>\n",
       "      <td>NaN</td>\n",
       "    </tr>\n",
       "    <tr>\n",
       "      <th>2</th>\n",
       "      <td>MH-4739-NW</td>\n",
       "      <td>House</td>\n",
       "      <td>NSW</td>\n",
       "      <td>2035.0</td>\n",
       "      <td>A</td>\n",
       "      <td>Rd</td>\n",
       "      <td>-33.94226</td>\n",
       "      <td>151.26235</td>\n",
       "      <td>748.0</td>\n",
       "      <td>3.0</td>\n",
       "      <td>1.0</td>\n",
       "      <td>1</td>\n",
       "      <td>False</td>\n",
       "      <td>False</td>\n",
       "      <td>False</td>\n",
       "      <td>True</td>\n",
       "      <td>NaT</td>\n",
       "      <td>NaN</td>\n",
       "    </tr>\n",
       "    <tr>\n",
       "      <th>3</th>\n",
       "      <td>SF-3867-VO</td>\n",
       "      <td>House</td>\n",
       "      <td>NSW</td>\n",
       "      <td>2042.0</td>\n",
       "      <td>B</td>\n",
       "      <td>St</td>\n",
       "      <td>-33.90520</td>\n",
       "      <td>151.18065</td>\n",
       "      <td>72.0</td>\n",
       "      <td>NaN</td>\n",
       "      <td>NaN</td>\n",
       "      <td>0</td>\n",
       "      <td>NaN</td>\n",
       "      <td>NaN</td>\n",
       "      <td>NaN</td>\n",
       "      <td>NaN</td>\n",
       "      <td>NaT</td>\n",
       "      <td>NaN</td>\n",
       "    </tr>\n",
       "    <tr>\n",
       "      <th>4</th>\n",
       "      <td>EP-8786-PA</td>\n",
       "      <td>Unit</td>\n",
       "      <td>NSW</td>\n",
       "      <td>2035.0</td>\n",
       "      <td>A</td>\n",
       "      <td>St</td>\n",
       "      <td>-33.94649</td>\n",
       "      <td>151.25793</td>\n",
       "      <td>1561.0</td>\n",
       "      <td>2.0</td>\n",
       "      <td>2.0</td>\n",
       "      <td>0</td>\n",
       "      <td>False</td>\n",
       "      <td>True</td>\n",
       "      <td>False</td>\n",
       "      <td>False</td>\n",
       "      <td>2012-07-06</td>\n",
       "      <td>630000.0</td>\n",
       "    </tr>\n",
       "  </tbody>\n",
       "</table>\n",
       "</div>"
      ],
      "text/plain": [
       "           ID PROPERTYCATEGORY STATE  POSTCODE SUBURB STREETTYPE  \\\n",
       "0  GL-3704-XQ             Unit   NSW    2042.0      B         St   \n",
       "1  JE-8988-FK            House   NSW    2042.0      B         Rd   \n",
       "2  MH-4739-NW            House   NSW    2035.0      A         Rd   \n",
       "3  SF-3867-VO            House   NSW    2042.0      B         St   \n",
       "4  EP-8786-PA             Unit   NSW    2035.0      A         St   \n",
       "\n",
       "   ADDRESSLATITUDE  ADDRESSLONGITUDE  AREASIZE  BEDROOMS  BATHS  PARKING  \\\n",
       "0        -33.90505         151.17824    4120.0       1.0    1.0        0   \n",
       "1        -33.89965         151.17771      42.0       NaN    NaN        0   \n",
       "2        -33.94226         151.26235     748.0       3.0    1.0        1   \n",
       "3        -33.90520         151.18065      72.0       NaN    NaN        0   \n",
       "4        -33.94649         151.25793    1561.0       2.0    2.0        0   \n",
       "\n",
       "  AIRCONDITION BALCONY WARDROBE GARDEN  SALE_DATE  SALE_PRICE  \n",
       "0          NaN     NaN      NaN    NaN        NaT         NaN  \n",
       "1          NaN     NaN      NaN    NaN        NaT         NaN  \n",
       "2        False   False    False   True        NaT         NaN  \n",
       "3          NaN     NaN      NaN    NaN        NaT         NaN  \n",
       "4        False    True    False  False 2012-07-06    630000.0  "
      ]
     },
     "execution_count": 2,
     "metadata": {},
     "output_type": "execute_result"
    }
   ],
   "source": [
    "properties_df = pd.read_csv(os.getcwd() + '/DATA/properties.csv')\n",
    "transactions_df = pd.read_csv(os.getcwd() + '/DATA/transactions.csv')\n",
    "\n",
    "transactions_df['SALE_DATE'] = pd.to_datetime(transactions_df['SALE_DATE'], dayfirst=True)\n",
    "\n",
    "df = properties_df.merge(transactions_df, how='left', on='ID')\n",
    "df.head()"
   ]
  },
  {
   "cell_type": "markdown",
   "metadata": {},
   "source": [
    "# Data Cleaning"
   ]
  },
  {
   "cell_type": "markdown",
   "metadata": {},
   "source": [
    "### Filtering for only houses sold in 2020."
   ]
  },
  {
   "cell_type": "code",
   "execution_count": 3,
   "metadata": {},
   "outputs": [],
   "source": [
    "df_year = df.loc[df['SALE_DATE'].dt.year == 2020]"
   ]
  },
  {
   "cell_type": "markdown",
   "metadata": {},
   "source": [
    "### Checking for unique sales to ensure no properties are double counted for multiple sales in one year."
   ]
  },
  {
   "cell_type": "code",
   "execution_count": 4,
   "metadata": {},
   "outputs": [
    {
     "name": "stdout",
     "output_type": "stream",
     "text": [
      "***Property: RE-6162-BJ was sold more than once in 2020****\n"
     ]
    }
   ],
   "source": [
    "unique_sales = df_year[['ID', \"SALE_DATE\"]].groupby(\"ID\").count()\n",
    "more_than_one_sale_2020 = df_year.loc[df_year['ID'] == unique_sales.loc[unique_sales['SALE_DATE'] > 1].index[0]]\n",
    "print(f\"***Property: {unique_sales.loc[unique_sales['SALE_DATE'] > 1].index[0]} \"\n",
    "      f\"was sold more than once in 2020****\")"
   ]
  },
  {
   "cell_type": "markdown",
   "metadata": {},
   "source": [
    "### ASSUMPTION 1: Where a property has been sold more than once during the year. We will only include\n",
    "### their most recent sales price.\n"
   ]
  },
  {
   "cell_type": "code",
   "execution_count": 5,
   "metadata": {},
   "outputs": [],
   "source": [
    "df_year = df_year.sort_values(by='SALE_DATE').drop_duplicates(subset= ['ID'], keep='last')"
   ]
  },
  {
   "cell_type": "markdown",
   "metadata": {},
   "source": [
    "# Results"
   ]
  },
  {
   "cell_type": "markdown",
   "metadata": {},
   "source": [
    "### Agregating by Suburb to get the total values as deterimined by sales price."
   ]
  },
  {
   "cell_type": "code",
   "execution_count": 9,
   "metadata": {},
   "outputs": [
    {
     "data": {
      "text/html": [
       "<div>\n",
       "<style scoped>\n",
       "    .dataframe tbody tr th:only-of-type {\n",
       "        vertical-align: middle;\n",
       "    }\n",
       "\n",
       "    .dataframe tbody tr th {\n",
       "        vertical-align: top;\n",
       "    }\n",
       "\n",
       "    .dataframe thead tr th {\n",
       "        text-align: left;\n",
       "    }\n",
       "</style>\n",
       "<table border=\"1\" class=\"dataframe\">\n",
       "  <thead>\n",
       "    <tr>\n",
       "      <th></th>\n",
       "      <th>SUBURB</th>\n",
       "      <th>SALE_PRICE</th>\n",
       "    </tr>\n",
       "    <tr>\n",
       "      <th></th>\n",
       "      <th></th>\n",
       "      <th>sum</th>\n",
       "    </tr>\n",
       "  </thead>\n",
       "  <tbody>\n",
       "    <tr>\n",
       "      <th>0</th>\n",
       "      <td>A</td>\n",
       "      <td>187191000.0</td>\n",
       "    </tr>\n",
       "    <tr>\n",
       "      <th>1</th>\n",
       "      <td>B</td>\n",
       "      <td>232930790.0</td>\n",
       "    </tr>\n",
       "  </tbody>\n",
       "</table>\n",
       "</div>"
      ],
      "text/plain": [
       "  SUBURB   SALE_PRICE\n",
       "                  sum\n",
       "0      A  187191000.0\n",
       "1      B  232930790.0"
      ]
     },
     "metadata": {},
     "output_type": "display_data"
    }
   ],
   "source": [
    "phase1_result = df_year.groupby(\"SUBURB\").agg({'SALE_PRICE': ['sum']}).reset_index()\n",
    "display(phase1_result)"
   ]
  },
  {
   "cell_type": "markdown",
   "metadata": {},
   "source": [
    "### Extracting our answer for phase 1"
   ]
  },
  {
   "cell_type": "code",
   "execution_count": 10,
   "metadata": {},
   "outputs": [
    {
     "name": "stdout",
     "output_type": "stream",
     "text": [
      "Suburb B has the highest Total property market value in 2020 with a value of $232930790.0\n"
     ]
    }
   ],
   "source": [
    "answers = phase1_result[phase1_result[('SALE_PRICE', 'sum')] ==phase1_result[('SALE_PRICE', 'sum')].max()].reset_index(drop=True)\n",
    "print(f\"Suburb {answers[('SUBURB', '')][0]} has the highest Total property market value in 2020\"\n",
    "      f\" with a value of ${answers[('SALE_PRICE', 'sum')][0]}\")"
   ]
  }
 ],
 "metadata": {
  "kernelspec": {
   "display_name": "Python 3 (ipykernel)",
   "language": "python",
   "name": "python3"
  },
  "language_info": {
   "codemirror_mode": {
    "name": "ipython",
    "version": 3
   },
   "file_extension": ".py",
   "mimetype": "text/x-python",
   "name": "python",
   "nbconvert_exporter": "python",
   "pygments_lexer": "ipython3",
   "version": "3.9.6"
  }
 },
 "nbformat": 4,
 "nbformat_minor": 1
}